{
 "cells": [
  {
   "cell_type": "markdown",
   "metadata": {},
   "source": [
    "## import essential libraries"
   ]
  },
  {
   "cell_type": "code",
   "execution_count": 1,
   "metadata": {},
   "outputs": [],
   "source": [
    "import pandas as pd\n",
    "import numpy as np\n",
    "import seaborn as sns\n",
    "import matplotlib.pyplot as plt\n",
    "%matplotlib inline"
   ]
  },
  {
   "cell_type": "code",
   "execution_count": 2,
   "metadata": {},
   "outputs": [
    {
     "data": {
      "text/html": [
       "<div>\n",
       "<style scoped>\n",
       "    .dataframe tbody tr th:only-of-type {\n",
       "        vertical-align: middle;\n",
       "    }\n",
       "\n",
       "    .dataframe tbody tr th {\n",
       "        vertical-align: top;\n",
       "    }\n",
       "\n",
       "    .dataframe thead th {\n",
       "        text-align: right;\n",
       "    }\n",
       "</style>\n",
       "<table border=\"1\" class=\"dataframe\">\n",
       "  <thead>\n",
       "    <tr style=\"text-align: right;\">\n",
       "      <th></th>\n",
       "      <th>Unnamed: 0</th>\n",
       "      <th>latitude</th>\n",
       "      <th>longitude</th>\n",
       "      <th>mag</th>\n",
       "      <th>magType</th>\n",
       "      <th>rms</th>\n",
       "      <th>locationSource</th>\n",
       "      <th>magSource</th>\n",
       "    </tr>\n",
       "  </thead>\n",
       "  <tbody>\n",
       "    <tr>\n",
       "      <th>0</th>\n",
       "      <td>0</td>\n",
       "      <td>19.457500</td>\n",
       "      <td>-67.874000</td>\n",
       "      <td>3.40</td>\n",
       "      <td>md</td>\n",
       "      <td>0.49</td>\n",
       "      <td>pr</td>\n",
       "      <td>pr</td>\n",
       "    </tr>\n",
       "    <tr>\n",
       "      <th>1</th>\n",
       "      <td>1</td>\n",
       "      <td>-3.488000</td>\n",
       "      <td>135.172000</td>\n",
       "      <td>3.80</td>\n",
       "      <td>mb</td>\n",
       "      <td>1.04</td>\n",
       "      <td>us</td>\n",
       "      <td>us</td>\n",
       "    </tr>\n",
       "    <tr>\n",
       "      <th>2</th>\n",
       "      <td>2</td>\n",
       "      <td>19.123500</td>\n",
       "      <td>-66.042800</td>\n",
       "      <td>3.20</td>\n",
       "      <td>md</td>\n",
       "      <td>0.20</td>\n",
       "      <td>pr</td>\n",
       "      <td>pr</td>\n",
       "    </tr>\n",
       "    <tr>\n",
       "      <th>3</th>\n",
       "      <td>3</td>\n",
       "      <td>-21.137000</td>\n",
       "      <td>-178.758000</td>\n",
       "      <td>4.90</td>\n",
       "      <td>mb</td>\n",
       "      <td>0.81</td>\n",
       "      <td>us</td>\n",
       "      <td>us</td>\n",
       "    </tr>\n",
       "    <tr>\n",
       "      <th>4</th>\n",
       "      <td>4</td>\n",
       "      <td>32.381167</td>\n",
       "      <td>-115.290833</td>\n",
       "      <td>2.71</td>\n",
       "      <td>ml</td>\n",
       "      <td>0.43</td>\n",
       "      <td>ci</td>\n",
       "      <td>ci</td>\n",
       "    </tr>\n",
       "  </tbody>\n",
       "</table>\n",
       "</div>"
      ],
      "text/plain": [
       "   Unnamed: 0   latitude   longitude   mag magType   rms locationSource  \\\n",
       "0           0  19.457500  -67.874000  3.40      md  0.49             pr   \n",
       "1           1  -3.488000  135.172000  3.80      mb  1.04             us   \n",
       "2           2  19.123500  -66.042800  3.20      md  0.20             pr   \n",
       "3           3 -21.137000 -178.758000  4.90      mb  0.81             us   \n",
       "4           4  32.381167 -115.290833  2.71      ml  0.43             ci   \n",
       "\n",
       "  magSource  \n",
       "0        pr  \n",
       "1        us  \n",
       "2        pr  \n",
       "3        us  \n",
       "4        ci  "
      ]
     },
     "execution_count": 2,
     "metadata": {},
     "output_type": "execute_result"
    }
   ],
   "source": [
    "df = pd.read_csv('C:/Users/Start/Desktop/Earthquakes100.csv')\n",
    "df.head()"
   ]
  },
  {
   "cell_type": "code",
   "execution_count": 3,
   "metadata": {},
   "outputs": [
    {
     "data": {
      "text/html": [
       "<div>\n",
       "<style scoped>\n",
       "    .dataframe tbody tr th:only-of-type {\n",
       "        vertical-align: middle;\n",
       "    }\n",
       "\n",
       "    .dataframe tbody tr th {\n",
       "        vertical-align: top;\n",
       "    }\n",
       "\n",
       "    .dataframe thead th {\n",
       "        text-align: right;\n",
       "    }\n",
       "</style>\n",
       "<table border=\"1\" class=\"dataframe\">\n",
       "  <thead>\n",
       "    <tr style=\"text-align: right;\">\n",
       "      <th></th>\n",
       "      <th>latitude</th>\n",
       "      <th>longitude</th>\n",
       "      <th>mag</th>\n",
       "      <th>magType</th>\n",
       "      <th>rms</th>\n",
       "      <th>locationSource</th>\n",
       "      <th>magSource</th>\n",
       "    </tr>\n",
       "  </thead>\n",
       "  <tbody>\n",
       "    <tr>\n",
       "      <th>0</th>\n",
       "      <td>19.457500</td>\n",
       "      <td>-67.874000</td>\n",
       "      <td>3.40</td>\n",
       "      <td>md</td>\n",
       "      <td>0.49</td>\n",
       "      <td>pr</td>\n",
       "      <td>pr</td>\n",
       "    </tr>\n",
       "    <tr>\n",
       "      <th>1</th>\n",
       "      <td>-3.488000</td>\n",
       "      <td>135.172000</td>\n",
       "      <td>3.80</td>\n",
       "      <td>mb</td>\n",
       "      <td>1.04</td>\n",
       "      <td>us</td>\n",
       "      <td>us</td>\n",
       "    </tr>\n",
       "    <tr>\n",
       "      <th>2</th>\n",
       "      <td>19.123500</td>\n",
       "      <td>-66.042800</td>\n",
       "      <td>3.20</td>\n",
       "      <td>md</td>\n",
       "      <td>0.20</td>\n",
       "      <td>pr</td>\n",
       "      <td>pr</td>\n",
       "    </tr>\n",
       "    <tr>\n",
       "      <th>3</th>\n",
       "      <td>-21.137000</td>\n",
       "      <td>-178.758000</td>\n",
       "      <td>4.90</td>\n",
       "      <td>mb</td>\n",
       "      <td>0.81</td>\n",
       "      <td>us</td>\n",
       "      <td>us</td>\n",
       "    </tr>\n",
       "    <tr>\n",
       "      <th>4</th>\n",
       "      <td>32.381167</td>\n",
       "      <td>-115.290833</td>\n",
       "      <td>2.71</td>\n",
       "      <td>ml</td>\n",
       "      <td>0.43</td>\n",
       "      <td>ci</td>\n",
       "      <td>ci</td>\n",
       "    </tr>\n",
       "  </tbody>\n",
       "</table>\n",
       "</div>"
      ],
      "text/plain": [
       "    latitude   longitude   mag magType   rms locationSource magSource\n",
       "0  19.457500  -67.874000  3.40      md  0.49             pr        pr\n",
       "1  -3.488000  135.172000  3.80      mb  1.04             us        us\n",
       "2  19.123500  -66.042800  3.20      md  0.20             pr        pr\n",
       "3 -21.137000 -178.758000  4.90      mb  0.81             us        us\n",
       "4  32.381167 -115.290833  2.71      ml  0.43             ci        ci"
      ]
     },
     "execution_count": 3,
     "metadata": {},
     "output_type": "execute_result"
    }
   ],
   "source": [
    "df_new=df.iloc[:,[1,2,3,4,5,6,7]]\n",
    "df_new.head()"
   ]
  },
  {
   "cell_type": "code",
   "execution_count": 29,
   "metadata": {},
   "outputs": [
    {
     "ename": "ValueError",
     "evalue": "No axis named 16 for object type <class 'pandas.core.frame.DataFrame'>",
     "output_type": "error",
     "traceback": [
      "\u001b[1;31m---------------------------------------------------------------------------\u001b[0m",
      "\u001b[1;31mValueError\u001b[0m                                Traceback (most recent call last)",
      "\u001b[1;32m<ipython-input-29-86d61396c847>\u001b[0m in \u001b[0;36m<module>\u001b[1;34m\u001b[0m\n\u001b[1;32m----> 1\u001b[1;33m \u001b[0mdf\u001b[0m\u001b[1;33m=\u001b[0m\u001b[0mdf\u001b[0m\u001b[1;33m.\u001b[0m\u001b[0mdrop\u001b[0m\u001b[1;33m(\u001b[0m\u001b[1;34m'horizontalError'\u001b[0m\u001b[1;33m,\u001b[0m \u001b[0maxis\u001b[0m\u001b[1;33m=\u001b[0m\u001b[1;36m16\u001b[0m\u001b[1;33m)\u001b[0m\u001b[1;33m\u001b[0m\u001b[1;33m\u001b[0m\u001b[0m\n\u001b[0m\u001b[0;32m      2\u001b[0m \u001b[1;33m\u001b[0m\u001b[0m\n",
      "\u001b[1;32m~\\anaconda3\\lib\\site-packages\\pandas\\core\\frame.py\u001b[0m in \u001b[0;36mdrop\u001b[1;34m(self, labels, axis, index, columns, level, inplace, errors)\u001b[0m\n\u001b[0;32m   3995\u001b[0m             \u001b[0mlevel\u001b[0m\u001b[1;33m=\u001b[0m\u001b[0mlevel\u001b[0m\u001b[1;33m,\u001b[0m\u001b[1;33m\u001b[0m\u001b[1;33m\u001b[0m\u001b[0m\n\u001b[0;32m   3996\u001b[0m             \u001b[0minplace\u001b[0m\u001b[1;33m=\u001b[0m\u001b[0minplace\u001b[0m\u001b[1;33m,\u001b[0m\u001b[1;33m\u001b[0m\u001b[1;33m\u001b[0m\u001b[0m\n\u001b[1;32m-> 3997\u001b[1;33m             \u001b[0merrors\u001b[0m\u001b[1;33m=\u001b[0m\u001b[0merrors\u001b[0m\u001b[1;33m,\u001b[0m\u001b[1;33m\u001b[0m\u001b[1;33m\u001b[0m\u001b[0m\n\u001b[0m\u001b[0;32m   3998\u001b[0m         )\n\u001b[0;32m   3999\u001b[0m \u001b[1;33m\u001b[0m\u001b[0m\n",
      "\u001b[1;32m~\\anaconda3\\lib\\site-packages\\pandas\\core\\generic.py\u001b[0m in \u001b[0;36mdrop\u001b[1;34m(self, labels, axis, index, columns, level, inplace, errors)\u001b[0m\n\u001b[0;32m   3921\u001b[0m             \u001b[1;32mif\u001b[0m \u001b[0mindex\u001b[0m \u001b[1;32mis\u001b[0m \u001b[1;32mnot\u001b[0m \u001b[1;32mNone\u001b[0m \u001b[1;32mor\u001b[0m \u001b[0mcolumns\u001b[0m \u001b[1;32mis\u001b[0m \u001b[1;32mnot\u001b[0m \u001b[1;32mNone\u001b[0m\u001b[1;33m:\u001b[0m\u001b[1;33m\u001b[0m\u001b[1;33m\u001b[0m\u001b[0m\n\u001b[0;32m   3922\u001b[0m                 \u001b[1;32mraise\u001b[0m \u001b[0mValueError\u001b[0m\u001b[1;33m(\u001b[0m\u001b[1;34m\"Cannot specify both 'labels' and 'index'/'columns'\"\u001b[0m\u001b[1;33m)\u001b[0m\u001b[1;33m\u001b[0m\u001b[1;33m\u001b[0m\u001b[0m\n\u001b[1;32m-> 3923\u001b[1;33m             \u001b[0maxis_name\u001b[0m \u001b[1;33m=\u001b[0m \u001b[0mself\u001b[0m\u001b[1;33m.\u001b[0m\u001b[0m_get_axis_name\u001b[0m\u001b[1;33m(\u001b[0m\u001b[0maxis\u001b[0m\u001b[1;33m)\u001b[0m\u001b[1;33m\u001b[0m\u001b[1;33m\u001b[0m\u001b[0m\n\u001b[0m\u001b[0;32m   3924\u001b[0m             \u001b[0maxes\u001b[0m \u001b[1;33m=\u001b[0m \u001b[1;33m{\u001b[0m\u001b[0maxis_name\u001b[0m\u001b[1;33m:\u001b[0m \u001b[0mlabels\u001b[0m\u001b[1;33m}\u001b[0m\u001b[1;33m\u001b[0m\u001b[1;33m\u001b[0m\u001b[0m\n\u001b[0;32m   3925\u001b[0m         \u001b[1;32melif\u001b[0m \u001b[0mindex\u001b[0m \u001b[1;32mis\u001b[0m \u001b[1;32mnot\u001b[0m \u001b[1;32mNone\u001b[0m \u001b[1;32mor\u001b[0m \u001b[0mcolumns\u001b[0m \u001b[1;32mis\u001b[0m \u001b[1;32mnot\u001b[0m \u001b[1;32mNone\u001b[0m\u001b[1;33m:\u001b[0m\u001b[1;33m\u001b[0m\u001b[1;33m\u001b[0m\u001b[0m\n",
      "\u001b[1;32m~\\anaconda3\\lib\\site-packages\\pandas\\core\\generic.py\u001b[0m in \u001b[0;36m_get_axis_name\u001b[1;34m(cls, axis)\u001b[0m\n\u001b[0;32m    418\u001b[0m             \u001b[1;32mexcept\u001b[0m \u001b[0mKeyError\u001b[0m\u001b[1;33m:\u001b[0m\u001b[1;33m\u001b[0m\u001b[1;33m\u001b[0m\u001b[0m\n\u001b[0;32m    419\u001b[0m                 \u001b[1;32mpass\u001b[0m\u001b[1;33m\u001b[0m\u001b[1;33m\u001b[0m\u001b[0m\n\u001b[1;32m--> 420\u001b[1;33m         \u001b[1;32mraise\u001b[0m \u001b[0mValueError\u001b[0m\u001b[1;33m(\u001b[0m\u001b[1;34mf\"No axis named {axis} for object type {cls}\"\u001b[0m\u001b[1;33m)\u001b[0m\u001b[1;33m\u001b[0m\u001b[1;33m\u001b[0m\u001b[0m\n\u001b[0m\u001b[0;32m    421\u001b[0m \u001b[1;33m\u001b[0m\u001b[0m\n\u001b[0;32m    422\u001b[0m     \u001b[1;32mdef\u001b[0m \u001b[0m_get_axis\u001b[0m\u001b[1;33m(\u001b[0m\u001b[0mself\u001b[0m\u001b[1;33m,\u001b[0m \u001b[0maxis\u001b[0m\u001b[1;33m)\u001b[0m\u001b[1;33m:\u001b[0m\u001b[1;33m\u001b[0m\u001b[1;33m\u001b[0m\u001b[0m\n",
      "\u001b[1;31mValueError\u001b[0m: No axis named 16 for object type <class 'pandas.core.frame.DataFrame'>"
     ]
    }
   ],
   "source": [
    "\n"
   ]
  },
  {
   "cell_type": "code",
   "execution_count": 6,
   "metadata": {},
   "outputs": [
    {
     "name": "stdout",
     "output_type": "stream",
     "text": [
      "<class 'pandas.core.frame.DataFrame'>\n",
      "RangeIndex: 10781 entries, 0 to 10780\n",
      "Data columns (total 9 columns):\n",
      " #   Column        Non-Null Count  Dtype  \n",
      "---  ------        --------------  -----  \n",
      " 0   model         10781 non-null  object \n",
      " 1   year          10781 non-null  int64  \n",
      " 2   price         10781 non-null  int64  \n",
      " 3   transmission  10781 non-null  object \n",
      " 4   mileage       10781 non-null  int64  \n",
      " 5   fuelType      10781 non-null  object \n",
      " 6   tax           10441 non-null  float64\n",
      " 7   mpg           10781 non-null  float64\n",
      " 8   engineSize    10734 non-null  float64\n",
      "dtypes: float64(3), int64(3), object(3)\n",
      "memory usage: 758.2+ KB\n"
     ]
    }
   ],
   "source": []
  },
  {
   "cell_type": "code",
   "execution_count": 7,
   "metadata": {},
   "outputs": [
    {
     "data": {
      "text/plain": [
       "model             0\n",
       "year              0\n",
       "price             0\n",
       "transmission      0\n",
       "mileage           0\n",
       "fuelType          0\n",
       "tax             340\n",
       "mpg               0\n",
       "engineSize       47\n",
       "dtype: int64"
      ]
     },
     "execution_count": 7,
     "metadata": {},
     "output_type": "execute_result"
    }
   ],
   "source": []
  },
  {
   "cell_type": "code",
   "execution_count": 8,
   "metadata": {},
   "outputs": [
    {
     "data": {
      "text/html": [
       "<div>\n",
       "<style scoped>\n",
       "    .dataframe tbody tr th:only-of-type {\n",
       "        vertical-align: middle;\n",
       "    }\n",
       "\n",
       "    .dataframe tbody tr th {\n",
       "        vertical-align: top;\n",
       "    }\n",
       "\n",
       "    .dataframe thead th {\n",
       "        text-align: right;\n",
       "    }\n",
       "</style>\n",
       "<table border=\"1\" class=\"dataframe\">\n",
       "  <thead>\n",
       "    <tr style=\"text-align: right;\">\n",
       "      <th></th>\n",
       "      <th>year</th>\n",
       "      <th>price</th>\n",
       "      <th>mileage</th>\n",
       "      <th>tax</th>\n",
       "      <th>mpg</th>\n",
       "      <th>engineSize</th>\n",
       "    </tr>\n",
       "  </thead>\n",
       "  <tbody>\n",
       "    <tr>\n",
       "      <th>count</th>\n",
       "      <td>10781.000000</td>\n",
       "      <td>10781.000000</td>\n",
       "      <td>10781.000000</td>\n",
       "      <td>10441.000000</td>\n",
       "      <td>10781.000000</td>\n",
       "      <td>10734.000000</td>\n",
       "    </tr>\n",
       "    <tr>\n",
       "      <th>mean</th>\n",
       "      <td>2017.078935</td>\n",
       "      <td>22733.408867</td>\n",
       "      <td>25496.986550</td>\n",
       "      <td>135.990805</td>\n",
       "      <td>56.399035</td>\n",
       "      <td>2.177259</td>\n",
       "    </tr>\n",
       "    <tr>\n",
       "      <th>std</th>\n",
       "      <td>2.349038</td>\n",
       "      <td>11415.528189</td>\n",
       "      <td>25143.192559</td>\n",
       "      <td>57.649876</td>\n",
       "      <td>31.336958</td>\n",
       "      <td>0.534256</td>\n",
       "    </tr>\n",
       "    <tr>\n",
       "      <th>min</th>\n",
       "      <td>1996.000000</td>\n",
       "      <td>1200.000000</td>\n",
       "      <td>1.000000</td>\n",
       "      <td>20.000000</td>\n",
       "      <td>5.500000</td>\n",
       "      <td>0.600000</td>\n",
       "    </tr>\n",
       "    <tr>\n",
       "      <th>25%</th>\n",
       "      <td>2016.000000</td>\n",
       "      <td>14950.000000</td>\n",
       "      <td>5529.000000</td>\n",
       "      <td>145.000000</td>\n",
       "      <td>45.600000</td>\n",
       "      <td>2.000000</td>\n",
       "    </tr>\n",
       "    <tr>\n",
       "      <th>50%</th>\n",
       "      <td>2017.000000</td>\n",
       "      <td>20462.000000</td>\n",
       "      <td>18347.000000</td>\n",
       "      <td>145.000000</td>\n",
       "      <td>53.300000</td>\n",
       "      <td>2.000000</td>\n",
       "    </tr>\n",
       "    <tr>\n",
       "      <th>75%</th>\n",
       "      <td>2019.000000</td>\n",
       "      <td>27940.000000</td>\n",
       "      <td>38206.000000</td>\n",
       "      <td>145.000000</td>\n",
       "      <td>62.800000</td>\n",
       "      <td>2.000000</td>\n",
       "    </tr>\n",
       "    <tr>\n",
       "      <th>max</th>\n",
       "      <td>2020.000000</td>\n",
       "      <td>123456.000000</td>\n",
       "      <td>214000.000000</td>\n",
       "      <td>580.000000</td>\n",
       "      <td>470.800000</td>\n",
       "      <td>6.600000</td>\n",
       "    </tr>\n",
       "  </tbody>\n",
       "</table>\n",
       "</div>"
      ],
      "text/plain": [
       "               year          price        mileage           tax           mpg  \\\n",
       "count  10781.000000   10781.000000   10781.000000  10441.000000  10781.000000   \n",
       "mean    2017.078935   22733.408867   25496.986550    135.990805     56.399035   \n",
       "std        2.349038   11415.528189   25143.192559     57.649876     31.336958   \n",
       "min     1996.000000    1200.000000       1.000000     20.000000      5.500000   \n",
       "25%     2016.000000   14950.000000    5529.000000    145.000000     45.600000   \n",
       "50%     2017.000000   20462.000000   18347.000000    145.000000     53.300000   \n",
       "75%     2019.000000   27940.000000   38206.000000    145.000000     62.800000   \n",
       "max     2020.000000  123456.000000  214000.000000    580.000000    470.800000   \n",
       "\n",
       "         engineSize  \n",
       "count  10734.000000  \n",
       "mean       2.177259  \n",
       "std        0.534256  \n",
       "min        0.600000  \n",
       "25%        2.000000  \n",
       "50%        2.000000  \n",
       "75%        2.000000  \n",
       "max        6.600000  "
      ]
     },
     "execution_count": 8,
     "metadata": {},
     "output_type": "execute_result"
    }
   ],
   "source": []
  },
  {
   "cell_type": "markdown",
   "metadata": {},
   "source": [
    "## Handle missing values"
   ]
  },
  {
   "cell_type": "code",
   "execution_count": 9,
   "metadata": {},
   "outputs": [],
   "source": []
  },
  {
   "cell_type": "code",
   "execution_count": 11,
   "metadata": {},
   "outputs": [
    {
     "name": "stdout",
     "output_type": "stream",
     "text": [
      "Requirement already satisfied: datasist in c:\\users\\mennaallahahmed\\anaconda3\\lib\\site-packages (1.5.3)\n",
      "Requirement already satisfied: scikit-learn in c:\\users\\mennaallahahmed\\anaconda3\\lib\\site-packages (from datasist) (1.0.2)\n",
      "Requirement already satisfied: Joblib in c:\\users\\mennaallahahmed\\anaconda3\\lib\\site-packages (from datasist) (1.1.0)\n",
      "Requirement already satisfied: numpy in c:\\users\\mennaallahahmed\\anaconda3\\lib\\site-packages (from datasist) (1.21.5)\n",
      "Requirement already satisfied: seaborn in c:\\users\\mennaallahahmed\\anaconda3\\lib\\site-packages (from datasist) (0.11.2)\n",
      "Requirement already satisfied: pandas in c:\\users\\mennaallahahmed\\anaconda3\\lib\\site-packages (from datasist) (1.4.2)\n",
      "Requirement already satisfied: jupyter in c:\\users\\mennaallahahmed\\anaconda3\\lib\\site-packages (from datasist) (1.0.0)\n",
      "Requirement already satisfied: matplotlib in c:\\users\\mennaallahahmed\\anaconda3\\lib\\site-packages (from datasist) (3.5.1)\n",
      "Requirement already satisfied: nltk in c:\\users\\mennaallahahmed\\anaconda3\\lib\\site-packages (from datasist) (3.7)\n",
      "Requirement already satisfied: qtconsole in c:\\users\\mennaallahahmed\\anaconda3\\lib\\site-packages (from jupyter->datasist) (5.3.0)\n",
      "Requirement already satisfied: ipykernel in c:\\users\\mennaallahahmed\\anaconda3\\lib\\site-packages (from jupyter->datasist) (6.9.1)\n",
      "Requirement already satisfied: notebook in c:\\users\\mennaallahahmed\\anaconda3\\lib\\site-packages (from jupyter->datasist) (6.4.8)\n",
      "Requirement already satisfied: jupyter-console in c:\\users\\mennaallahahmed\\anaconda3\\lib\\site-packages (from jupyter->datasist) (6.4.0)\n",
      "Requirement already satisfied: ipywidgets in c:\\users\\mennaallahahmed\\anaconda3\\lib\\site-packages (from jupyter->datasist) (7.6.5)\n",
      "Requirement already satisfied: nbconvert in c:\\users\\mennaallahahmed\\anaconda3\\lib\\site-packages (from jupyter->datasist) (6.4.4)\n",
      "Requirement already satisfied: ipython>=7.23.1 in c:\\users\\mennaallahahmed\\anaconda3\\lib\\site-packages (from ipykernel->jupyter->datasist) (8.2.0)\n",
      "Requirement already satisfied: traitlets<6.0,>=5.1.0 in c:\\users\\mennaallahahmed\\anaconda3\\lib\\site-packages (from ipykernel->jupyter->datasist) (5.1.1)\n",
      "Requirement already satisfied: nest-asyncio in c:\\users\\mennaallahahmed\\anaconda3\\lib\\site-packages (from ipykernel->jupyter->datasist) (1.5.5)\n",
      "Requirement already satisfied: debugpy<2.0,>=1.0.0 in c:\\users\\mennaallahahmed\\anaconda3\\lib\\site-packages (from ipykernel->jupyter->datasist) (1.5.1)\n",
      "Requirement already satisfied: tornado<7.0,>=4.2 in c:\\users\\mennaallahahmed\\anaconda3\\lib\\site-packages (from ipykernel->jupyter->datasist) (6.1)\n",
      "Requirement already satisfied: matplotlib-inline<0.2.0,>=0.1.0 in c:\\users\\mennaallahahmed\\anaconda3\\lib\\site-packages (from ipykernel->jupyter->datasist) (0.1.2)\n",
      "Requirement already satisfied: jupyter-client<8.0 in c:\\users\\mennaallahahmed\\anaconda3\\lib\\site-packages (from ipykernel->jupyter->datasist) (6.1.12)\n",
      "Requirement already satisfied: stack-data in c:\\users\\mennaallahahmed\\anaconda3\\lib\\site-packages (from ipython>=7.23.1->ipykernel->jupyter->datasist) (0.2.0)\n",
      "Requirement already satisfied: pickleshare in c:\\users\\mennaallahahmed\\anaconda3\\lib\\site-packages (from ipython>=7.23.1->ipykernel->jupyter->datasist) (0.7.5)\n",
      "Requirement already satisfied: decorator in c:\\users\\mennaallahahmed\\anaconda3\\lib\\site-packages (from ipython>=7.23.1->ipykernel->jupyter->datasist) (5.1.1)\n",
      "Requirement already satisfied: colorama in c:\\users\\mennaallahahmed\\anaconda3\\lib\\site-packages (from ipython>=7.23.1->ipykernel->jupyter->datasist) (0.4.4)\n",
      "Requirement already satisfied: pygments>=2.4.0 in c:\\users\\mennaallahahmed\\anaconda3\\lib\\site-packages (from ipython>=7.23.1->ipykernel->jupyter->datasist) (2.14.0)\n",
      "Requirement already satisfied: jedi>=0.16 in c:\\users\\mennaallahahmed\\anaconda3\\lib\\site-packages (from ipython>=7.23.1->ipykernel->jupyter->datasist) (0.18.1)\n",
      "Requirement already satisfied: backcall in c:\\users\\mennaallahahmed\\anaconda3\\lib\\site-packages (from ipython>=7.23.1->ipykernel->jupyter->datasist) (0.2.0)\n",
      "Requirement already satisfied: setuptools>=18.5 in c:\\users\\mennaallahahmed\\anaconda3\\lib\\site-packages (from ipython>=7.23.1->ipykernel->jupyter->datasist) (61.2.0)\n",
      "Requirement already satisfied: prompt-toolkit!=3.0.0,!=3.0.1,<3.1.0,>=2.0.0 in c:\\users\\mennaallahahmed\\anaconda3\\lib\\site-packages (from ipython>=7.23.1->ipykernel->jupyter->datasist) (3.0.20)\n",
      "Requirement already satisfied: parso<0.9.0,>=0.8.0 in c:\\users\\mennaallahahmed\\anaconda3\\lib\\site-packages (from jedi>=0.16->ipython>=7.23.1->ipykernel->jupyter->datasist) (0.8.3)\n",
      "Requirement already satisfied: jupyter-core>=4.6.0 in c:\\users\\mennaallahahmed\\anaconda3\\lib\\site-packages (from jupyter-client<8.0->ipykernel->jupyter->datasist) (4.9.2)\n",
      "Requirement already satisfied: pyzmq>=13 in c:\\users\\mennaallahahmed\\anaconda3\\lib\\site-packages (from jupyter-client<8.0->ipykernel->jupyter->datasist) (22.3.0)\n",
      "Requirement already satisfied: python-dateutil>=2.1 in c:\\users\\mennaallahahmed\\anaconda3\\lib\\site-packages (from jupyter-client<8.0->ipykernel->jupyter->datasist) (2.8.2)\n",
      "Requirement already satisfied: pywin32>=1.0 in c:\\users\\mennaallahahmed\\anaconda3\\lib\\site-packages (from jupyter-core>=4.6.0->jupyter-client<8.0->ipykernel->jupyter->datasist) (302)\n",
      "Requirement already satisfied: wcwidth in c:\\users\\mennaallahahmed\\anaconda3\\lib\\site-packages (from prompt-toolkit!=3.0.0,!=3.0.1,<3.1.0,>=2.0.0->ipython>=7.23.1->ipykernel->jupyter->datasist) (0.2.5)\n",
      "Requirement already satisfied: six>=1.5 in c:\\users\\mennaallahahmed\\anaconda3\\lib\\site-packages (from python-dateutil>=2.1->jupyter-client<8.0->ipykernel->jupyter->datasist) (1.16.0)\n",
      "Requirement already satisfied: ipython-genutils~=0.2.0 in c:\\users\\mennaallahahmed\\anaconda3\\lib\\site-packages (from ipywidgets->jupyter->datasist) (0.2.0)\n",
      "Requirement already satisfied: nbformat>=4.2.0 in c:\\users\\mennaallahahmed\\anaconda3\\lib\\site-packages (from ipywidgets->jupyter->datasist) (5.3.0)\n",
      "Requirement already satisfied: jupyterlab-widgets>=1.0.0 in c:\\users\\mennaallahahmed\\anaconda3\\lib\\site-packages (from ipywidgets->jupyter->datasist) (1.0.0)\n",
      "Requirement already satisfied: widgetsnbextension~=3.5.0 in c:\\users\\mennaallahahmed\\anaconda3\\lib\\site-packages (from ipywidgets->jupyter->datasist) (3.5.2)\n",
      "Requirement already satisfied: jsonschema>=2.6 in c:\\users\\mennaallahahmed\\anaconda3\\lib\\site-packages (from nbformat>=4.2.0->ipywidgets->jupyter->datasist) (4.4.0)\n",
      "Requirement already satisfied: fastjsonschema in c:\\users\\mennaallahahmed\\anaconda3\\lib\\site-packages (from nbformat>=4.2.0->ipywidgets->jupyter->datasist) (2.15.1)\n",
      "Requirement already satisfied: attrs>=17.4.0 in c:\\users\\mennaallahahmed\\anaconda3\\lib\\site-packages (from jsonschema>=2.6->nbformat>=4.2.0->ipywidgets->jupyter->datasist) (21.4.0)\n",
      "Requirement already satisfied: pyrsistent!=0.17.0,!=0.17.1,!=0.17.2,>=0.14.0 in c:\\users\\mennaallahahmed\\anaconda3\\lib\\site-packages (from jsonschema>=2.6->nbformat>=4.2.0->ipywidgets->jupyter->datasist) (0.18.0)\n",
      "Requirement already satisfied: argon2-cffi in c:\\users\\mennaallahahmed\\anaconda3\\lib\\site-packages (from notebook->jupyter->datasist) (21.3.0)\n",
      "Requirement already satisfied: prometheus-client in c:\\users\\mennaallahahmed\\anaconda3\\lib\\site-packages (from notebook->jupyter->datasist) (0.13.1)\n",
      "Requirement already satisfied: terminado>=0.8.3 in c:\\users\\mennaallahahmed\\anaconda3\\lib\\site-packages (from notebook->jupyter->datasist) (0.13.1)\n",
      "Requirement already satisfied: Send2Trash>=1.8.0 in c:\\users\\mennaallahahmed\\anaconda3\\lib\\site-packages (from notebook->jupyter->datasist) (1.8.0)\n",
      "Requirement already satisfied: jinja2 in c:\\users\\mennaallahahmed\\anaconda3\\lib\\site-packages (from notebook->jupyter->datasist) (2.11.3)\n",
      "Requirement already satisfied: pywinpty>=1.1.0 in c:\\users\\mennaallahahmed\\anaconda3\\lib\\site-packages (from terminado>=0.8.3->notebook->jupyter->datasist) (2.0.2)\n",
      "Requirement already satisfied: argon2-cffi-bindings in c:\\users\\mennaallahahmed\\anaconda3\\lib\\site-packages (from argon2-cffi->notebook->jupyter->datasist) (21.2.0)\n",
      "Requirement already satisfied: cffi>=1.0.1 in c:\\users\\mennaallahahmed\\anaconda3\\lib\\site-packages (from argon2-cffi-bindings->argon2-cffi->notebook->jupyter->datasist) (1.15.0)\n",
      "Requirement already satisfied: pycparser in c:\\users\\mennaallahahmed\\anaconda3\\lib\\site-packages (from cffi>=1.0.1->argon2-cffi-bindings->argon2-cffi->notebook->jupyter->datasist) (2.21)\n",
      "Requirement already satisfied: MarkupSafe>=0.23 in c:\\users\\mennaallahahmed\\anaconda3\\lib\\site-packages (from jinja2->notebook->jupyter->datasist) (2.0.1)\n",
      "Requirement already satisfied: pyparsing>=2.2.1 in c:\\users\\mennaallahahmed\\anaconda3\\lib\\site-packages (from matplotlib->datasist) (3.0.4)\n",
      "Requirement already satisfied: fonttools>=4.22.0 in c:\\users\\mennaallahahmed\\anaconda3\\lib\\site-packages (from matplotlib->datasist) (4.25.0)\n",
      "Requirement already satisfied: kiwisolver>=1.0.1 in c:\\users\\mennaallahahmed\\anaconda3\\lib\\site-packages (from matplotlib->datasist) (1.3.2)\n",
      "Requirement already satisfied: pillow>=6.2.0 in c:\\users\\mennaallahahmed\\anaconda3\\lib\\site-packages (from matplotlib->datasist) (9.0.1)\n",
      "Requirement already satisfied: packaging>=20.0 in c:\\users\\mennaallahahmed\\anaconda3\\lib\\site-packages (from matplotlib->datasist) (21.3)\n",
      "Requirement already satisfied: cycler>=0.10 in c:\\users\\mennaallahahmed\\anaconda3\\lib\\site-packages (from matplotlib->datasist) (0.11.0)\n",
      "Requirement already satisfied: testpath in c:\\users\\mennaallahahmed\\anaconda3\\lib\\site-packages (from nbconvert->jupyter->datasist) (0.5.0)\n",
      "Requirement already satisfied: bleach in c:\\users\\mennaallahahmed\\anaconda3\\lib\\site-packages (from nbconvert->jupyter->datasist) (4.1.0)\n",
      "Requirement already satisfied: defusedxml in c:\\users\\mennaallahahmed\\anaconda3\\lib\\site-packages (from nbconvert->jupyter->datasist) (0.7.1)\n",
      "Requirement already satisfied: jupyterlab-pygments in c:\\users\\mennaallahahmed\\anaconda3\\lib\\site-packages (from nbconvert->jupyter->datasist) (0.1.2)\n",
      "Requirement already satisfied: nbclient<0.6.0,>=0.5.0 in c:\\users\\mennaallahahmed\\anaconda3\\lib\\site-packages (from nbconvert->jupyter->datasist) (0.5.13)\n",
      "Requirement already satisfied: entrypoints>=0.2.2 in c:\\users\\mennaallahahmed\\anaconda3\\lib\\site-packages (from nbconvert->jupyter->datasist) (0.4)\n",
      "Requirement already satisfied: beautifulsoup4 in c:\\users\\mennaallahahmed\\anaconda3\\lib\\site-packages (from nbconvert->jupyter->datasist) (4.11.1)\n",
      "Requirement already satisfied: mistune<2,>=0.8.1 in c:\\users\\mennaallahahmed\\anaconda3\\lib\\site-packages (from nbconvert->jupyter->datasist) (0.8.4)\n",
      "Requirement already satisfied: pandocfilters>=1.4.1 in c:\\users\\mennaallahahmed\\anaconda3\\lib\\site-packages (from nbconvert->jupyter->datasist) (1.5.0)\n",
      "Requirement already satisfied: soupsieve>1.2 in c:\\users\\mennaallahahmed\\anaconda3\\lib\\site-packages (from beautifulsoup4->nbconvert->jupyter->datasist) (2.3.1)\n",
      "Requirement already satisfied: webencodings in c:\\users\\mennaallahahmed\\anaconda3\\lib\\site-packages (from bleach->nbconvert->jupyter->datasist) (0.5.1)\n",
      "Requirement already satisfied: regex>=2021.8.3 in c:\\users\\mennaallahahmed\\anaconda3\\lib\\site-packages (from nltk->datasist) (2022.3.15)\n",
      "Requirement already satisfied: click in c:\\users\\mennaallahahmed\\anaconda3\\lib\\site-packages (from nltk->datasist) (8.0.4)\n",
      "Requirement already satisfied: tqdm in c:\\users\\mennaallahahmed\\anaconda3\\lib\\site-packages (from nltk->datasist) (4.64.0)\n",
      "Requirement already satisfied: pytz>=2020.1 in c:\\users\\mennaallahahmed\\anaconda3\\lib\\site-packages (from pandas->datasist) (2021.3)\n",
      "Requirement already satisfied: qtpy>=2.0.1 in c:\\users\\mennaallahahmed\\anaconda3\\lib\\site-packages (from qtconsole->jupyter->datasist) (2.0.1)\n",
      "Requirement already satisfied: scipy>=1.1.0 in c:\\users\\mennaallahahmed\\anaconda3\\lib\\site-packages (from scikit-learn->datasist) (1.7.3)\n",
      "Requirement already satisfied: threadpoolctl>=2.0.0 in c:\\users\\mennaallahahmed\\anaconda3\\lib\\site-packages (from scikit-learn->datasist) (2.2.0)\n",
      "Requirement already satisfied: asttokens in c:\\users\\mennaallahahmed\\anaconda3\\lib\\site-packages (from stack-data->ipython>=7.23.1->ipykernel->jupyter->datasist) (2.0.5)\n",
      "Requirement already satisfied: pure-eval in c:\\users\\mennaallahahmed\\anaconda3\\lib\\site-packages (from stack-data->ipython>=7.23.1->ipykernel->jupyter->datasist) (0.2.2)\n",
      "Requirement already satisfied: executing in c:\\users\\mennaallahahmed\\anaconda3\\lib\\site-packages (from stack-data->ipython>=7.23.1->ipykernel->jupyter->datasist) (0.8.3)\n"
     ]
    }
   ],
   "source": []
  },
  {
   "cell_type": "code",
   "execution_count": 12,
   "metadata": {},
   "outputs": [
    {
     "data": {
      "text/plain": [
       "275"
      ]
     },
     "execution_count": 12,
     "metadata": {},
     "output_type": "execute_result"
    }
   ],
   "source": []
  },
  {
   "cell_type": "code",
   "execution_count": 20,
   "metadata": {},
   "outputs": [],
   "source": []
  },
  {
   "cell_type": "code",
   "execution_count": 21,
   "metadata": {
    "scrolled": true
   },
   "outputs": [
    {
     "data": {
      "text/plain": [
       "Diesel      7027\n",
       "Petrol      3417\n",
       "Hybrid       298\n",
       "Other          3\n",
       "Electric       3\n",
       "Name: fuelType, dtype: int64"
      ]
     },
     "execution_count": 21,
     "metadata": {},
     "output_type": "execute_result"
    }
   ],
   "source": []
  },
  {
   "cell_type": "code",
   "execution_count": null,
   "metadata": {},
   "outputs": [],
   "source": []
  },
  {
   "cell_type": "code",
   "execution_count": null,
   "metadata": {},
   "outputs": [],
   "source": []
  },
  {
   "cell_type": "code",
   "execution_count": null,
   "metadata": {},
   "outputs": [],
   "source": []
  },
  {
   "cell_type": "code",
   "execution_count": null,
   "metadata": {},
   "outputs": [],
   "source": []
  },
  {
   "cell_type": "markdown",
   "metadata": {},
   "source": []
  },
  {
   "cell_type": "code",
   "execution_count": null,
   "metadata": {},
   "outputs": [],
   "source": []
  },
  {
   "cell_type": "code",
   "execution_count": 32,
   "metadata": {},
   "outputs": [
    {
     "data": {
      "text/plain": [
       "Semi-Auto    4666\n",
       "Automatic    3555\n",
       "Manual       2527\n",
       "Name: transmission, dtype: int64"
      ]
     },
     "execution_count": 32,
     "metadata": {},
     "output_type": "execute_result"
    }
   ],
   "source": []
  },
  {
   "cell_type": "code",
   "execution_count": null,
   "metadata": {},
   "outputs": [],
   "source": []
  },
  {
   "cell_type": "markdown",
   "metadata": {},
   "source": []
  },
  {
   "cell_type": "code",
   "execution_count": 8,
   "metadata": {},
   "outputs": [],
   "source": []
  },
  {
   "cell_type": "markdown",
   "metadata": {},
   "source": []
  },
  {
   "cell_type": "code",
   "execution_count": null,
   "metadata": {},
   "outputs": [],
   "source": []
  },
  {
   "cell_type": "code",
   "execution_count": null,
   "metadata": {},
   "outputs": [],
   "source": []
  },
  {
   "cell_type": "code",
   "execution_count": null,
   "metadata": {},
   "outputs": [],
   "source": []
  },
  {
   "cell_type": "code",
   "execution_count": null,
   "metadata": {},
   "outputs": [],
   "source": []
  },
  {
   "cell_type": "markdown",
   "metadata": {},
   "source": []
  },
  {
   "cell_type": "code",
   "execution_count": null,
   "metadata": {},
   "outputs": [],
   "source": []
  },
  {
   "cell_type": "markdown",
   "metadata": {},
   "source": []
  },
  {
   "cell_type": "code",
   "execution_count": null,
   "metadata": {},
   "outputs": [],
   "source": []
  },
  {
   "cell_type": "code",
   "execution_count": null,
   "metadata": {},
   "outputs": [],
   "source": []
  },
  {
   "cell_type": "code",
   "execution_count": 15,
   "metadata": {},
   "outputs": [
    {
     "ename": "NameError",
     "evalue": "name 'x_train_scaled' is not defined",
     "output_type": "error",
     "traceback": [
      "\u001b[1;31m---------------------------------------------------------------------------\u001b[0m",
      "\u001b[1;31mNameError\u001b[0m                                 Traceback (most recent call last)",
      "\u001b[1;32m<ipython-input-15-6175cfb5614d>\u001b[0m in \u001b[0;36m<module>\u001b[1;34m\u001b[0m\n\u001b[0;32m      1\u001b[0m \u001b[1;32mfrom\u001b[0m \u001b[0msklearn\u001b[0m\u001b[1;33m.\u001b[0m\u001b[0mensemble\u001b[0m \u001b[1;32mimport\u001b[0m \u001b[0mRandomForestRegressor\u001b[0m\u001b[1;33m\u001b[0m\u001b[1;33m\u001b[0m\u001b[0m\n\u001b[0;32m      2\u001b[0m \u001b[0mrf\u001b[0m \u001b[1;33m=\u001b[0m \u001b[0mRandomForestRegressor\u001b[0m\u001b[1;33m(\u001b[0m\u001b[1;33m)\u001b[0m\u001b[1;33m\u001b[0m\u001b[1;33m\u001b[0m\u001b[0m\n\u001b[1;32m----> 3\u001b[1;33m \u001b[0mrf\u001b[0m\u001b[1;33m.\u001b[0m\u001b[0mfit\u001b[0m\u001b[1;33m(\u001b[0m\u001b[0mx_train_scaled\u001b[0m\u001b[1;33m,\u001b[0m\u001b[0my_train\u001b[0m\u001b[1;33m)\u001b[0m\u001b[1;33m\u001b[0m\u001b[1;33m\u001b[0m\u001b[0m\n\u001b[0m\u001b[0;32m      4\u001b[0m \u001b[0my_pred_rf\u001b[0m \u001b[1;33m=\u001b[0m \u001b[0mrf\u001b[0m\u001b[1;33m.\u001b[0m\u001b[0mpredict\u001b[0m\u001b[1;33m(\u001b[0m\u001b[0mx_test_scaled\u001b[0m\u001b[1;33m)\u001b[0m\u001b[1;33m\u001b[0m\u001b[1;33m\u001b[0m\u001b[0m\n\u001b[0;32m      5\u001b[0m \u001b[0mprint\u001b[0m\u001b[1;33m(\u001b[0m\u001b[1;34m'R2 for training'\u001b[0m\u001b[1;33m,\u001b[0m\u001b[0mrf\u001b[0m\u001b[1;33m.\u001b[0m\u001b[0mscore\u001b[0m\u001b[1;33m(\u001b[0m\u001b[0mx_train_scaled\u001b[0m\u001b[1;33m,\u001b[0m\u001b[0my_train\u001b[0m\u001b[1;33m)\u001b[0m\u001b[1;33m)\u001b[0m\u001b[1;33m\u001b[0m\u001b[1;33m\u001b[0m\u001b[0m\n",
      "\u001b[1;31mNameError\u001b[0m: name 'x_train_scaled' is not defined"
     ]
    }
   ],
   "source": []
  },
  {
   "cell_type": "code",
   "execution_count": 47,
   "metadata": {},
   "outputs": [
    {
     "name": "stdout",
     "output_type": "stream",
     "text": [
      "R2 for training 0.05032244626910587\n",
      "R2 for testing 0.04166019384234687\n"
     ]
    }
   ],
   "source": []
  },
  {
   "cell_type": "markdown",
   "metadata": {},
   "source": []
  },
  {
   "cell_type": "code",
   "execution_count": null,
   "metadata": {},
   "outputs": [],
   "source": []
  },
  {
   "cell_type": "code",
   "execution_count": null,
   "metadata": {},
   "outputs": [],
   "source": []
  },
  {
   "cell_type": "markdown",
   "metadata": {},
   "source": []
  },
  {
   "cell_type": "code",
   "execution_count": null,
   "metadata": {},
   "outputs": [],
   "source": []
  },
  {
   "cell_type": "code",
   "execution_count": null,
   "metadata": {},
   "outputs": [],
   "source": []
  },
  {
   "cell_type": "code",
   "execution_count": null,
   "metadata": {},
   "outputs": [],
   "source": []
  },
  {
   "cell_type": "code",
   "execution_count": null,
   "metadata": {},
   "outputs": [],
   "source": []
  },
  {
   "cell_type": "markdown",
   "metadata": {},
   "source": [
    "## Start Pipline"
   ]
  },
  {
   "cell_type": "code",
   "execution_count": 4,
   "metadata": {},
   "outputs": [
    {
     "data": {
      "text/html": [
       "<div>\n",
       "<style scoped>\n",
       "    .dataframe tbody tr th:only-of-type {\n",
       "        vertical-align: middle;\n",
       "    }\n",
       "\n",
       "    .dataframe tbody tr th {\n",
       "        vertical-align: top;\n",
       "    }\n",
       "\n",
       "    .dataframe thead th {\n",
       "        text-align: right;\n",
       "    }\n",
       "</style>\n",
       "<table border=\"1\" class=\"dataframe\">\n",
       "  <thead>\n",
       "    <tr style=\"text-align: right;\">\n",
       "      <th></th>\n",
       "      <th>latitude</th>\n",
       "      <th>longitude</th>\n",
       "      <th>mag</th>\n",
       "      <th>magType</th>\n",
       "      <th>rms</th>\n",
       "      <th>locationSource</th>\n",
       "      <th>magSource</th>\n",
       "    </tr>\n",
       "  </thead>\n",
       "  <tbody>\n",
       "    <tr>\n",
       "      <th>0</th>\n",
       "      <td>19.457500</td>\n",
       "      <td>-67.874000</td>\n",
       "      <td>3.40</td>\n",
       "      <td>md</td>\n",
       "      <td>0.49</td>\n",
       "      <td>pr</td>\n",
       "      <td>pr</td>\n",
       "    </tr>\n",
       "    <tr>\n",
       "      <th>1</th>\n",
       "      <td>-3.488000</td>\n",
       "      <td>135.172000</td>\n",
       "      <td>3.80</td>\n",
       "      <td>mb</td>\n",
       "      <td>1.04</td>\n",
       "      <td>us</td>\n",
       "      <td>us</td>\n",
       "    </tr>\n",
       "    <tr>\n",
       "      <th>2</th>\n",
       "      <td>19.123500</td>\n",
       "      <td>-66.042800</td>\n",
       "      <td>3.20</td>\n",
       "      <td>md</td>\n",
       "      <td>0.20</td>\n",
       "      <td>pr</td>\n",
       "      <td>pr</td>\n",
       "    </tr>\n",
       "    <tr>\n",
       "      <th>3</th>\n",
       "      <td>-21.137000</td>\n",
       "      <td>-178.758000</td>\n",
       "      <td>4.90</td>\n",
       "      <td>mb</td>\n",
       "      <td>0.81</td>\n",
       "      <td>us</td>\n",
       "      <td>us</td>\n",
       "    </tr>\n",
       "    <tr>\n",
       "      <th>4</th>\n",
       "      <td>32.381167</td>\n",
       "      <td>-115.290833</td>\n",
       "      <td>2.71</td>\n",
       "      <td>ml</td>\n",
       "      <td>0.43</td>\n",
       "      <td>ci</td>\n",
       "      <td>ci</td>\n",
       "    </tr>\n",
       "    <tr>\n",
       "      <th>...</th>\n",
       "      <td>...</td>\n",
       "      <td>...</td>\n",
       "      <td>...</td>\n",
       "      <td>...</td>\n",
       "      <td>...</td>\n",
       "      <td>...</td>\n",
       "      <td>...</td>\n",
       "    </tr>\n",
       "    <tr>\n",
       "      <th>9995</th>\n",
       "      <td>-22.091000</td>\n",
       "      <td>-67.238000</td>\n",
       "      <td>4.00</td>\n",
       "      <td>mb</td>\n",
       "      <td>0.91</td>\n",
       "      <td>us</td>\n",
       "      <td>us</td>\n",
       "    </tr>\n",
       "    <tr>\n",
       "      <th>9996</th>\n",
       "      <td>51.853000</td>\n",
       "      <td>-179.355000</td>\n",
       "      <td>4.50</td>\n",
       "      <td>mb</td>\n",
       "      <td>1.01</td>\n",
       "      <td>us</td>\n",
       "      <td>us</td>\n",
       "    </tr>\n",
       "    <tr>\n",
       "      <th>9997</th>\n",
       "      <td>38.313000</td>\n",
       "      <td>142.185000</td>\n",
       "      <td>4.90</td>\n",
       "      <td>mb</td>\n",
       "      <td>0.91</td>\n",
       "      <td>us</td>\n",
       "      <td>us</td>\n",
       "    </tr>\n",
       "    <tr>\n",
       "      <th>9998</th>\n",
       "      <td>19.458666</td>\n",
       "      <td>-155.380997</td>\n",
       "      <td>2.55</td>\n",
       "      <td>ml</td>\n",
       "      <td>0.34</td>\n",
       "      <td>hv</td>\n",
       "      <td>hv</td>\n",
       "    </tr>\n",
       "    <tr>\n",
       "      <th>9999</th>\n",
       "      <td>36.013833</td>\n",
       "      <td>-117.879500</td>\n",
       "      <td>2.50</td>\n",
       "      <td>ml</td>\n",
       "      <td>0.21</td>\n",
       "      <td>ci</td>\n",
       "      <td>ci</td>\n",
       "    </tr>\n",
       "  </tbody>\n",
       "</table>\n",
       "<p>10000 rows × 7 columns</p>\n",
       "</div>"
      ],
      "text/plain": [
       "       latitude   longitude   mag magType   rms locationSource magSource\n",
       "0     19.457500  -67.874000  3.40      md  0.49             pr        pr\n",
       "1     -3.488000  135.172000  3.80      mb  1.04             us        us\n",
       "2     19.123500  -66.042800  3.20      md  0.20             pr        pr\n",
       "3    -21.137000 -178.758000  4.90      mb  0.81             us        us\n",
       "4     32.381167 -115.290833  2.71      ml  0.43             ci        ci\n",
       "...         ...         ...   ...     ...   ...            ...       ...\n",
       "9995 -22.091000  -67.238000  4.00      mb  0.91             us        us\n",
       "9996  51.853000 -179.355000  4.50      mb  1.01             us        us\n",
       "9997  38.313000  142.185000  4.90      mb  0.91             us        us\n",
       "9998  19.458666 -155.380997  2.55      ml  0.34             hv        hv\n",
       "9999  36.013833 -117.879500  2.50      ml  0.21             ci        ci\n",
       "\n",
       "[10000 rows x 7 columns]"
      ]
     },
     "execution_count": 4,
     "metadata": {},
     "output_type": "execute_result"
    }
   ],
   "source": [
    "df_new"
   ]
  },
  {
   "cell_type": "code",
   "execution_count": 5,
   "metadata": {},
   "outputs": [],
   "source": [
    "X = df_new.drop('mag',axis =1 )\n",
    "y = df_new['mag']"
   ]
  },
  {
   "cell_type": "code",
   "execution_count": 67,
   "metadata": {},
   "outputs": [
    {
     "data": {
      "text/plain": [
       "array([' 5 Series', ' 6 Series', ' 1 Series', ' 7 Series', ' 2 Series',\n",
       "       ' 4 Series', ' X3', ' 3 Series', ' X5', ' X4', ' X1', ' M4', ' X2',\n",
       "       ' X6', ' 8 Series', ' Z4', ' X7', ' M5', ' i8', ' M2', ' i3',\n",
       "       ' M3', ' M6', ' Z3'], dtype=object)"
      ]
     },
     "execution_count": 67,
     "metadata": {},
     "output_type": "execute_result"
    }
   ],
   "source": []
  },
  {
   "cell_type": "code",
   "execution_count": 68,
   "metadata": {},
   "outputs": [
    {
     "data": {
      "text/plain": [
       "array(['Automatic', 'Manual', 'Semi-Auto'], dtype=object)"
      ]
     },
     "execution_count": 68,
     "metadata": {},
     "output_type": "execute_result"
    }
   ],
   "source": []
  },
  {
   "cell_type": "code",
   "execution_count": 69,
   "metadata": {},
   "outputs": [
    {
     "data": {
      "text/plain": [
       "array(['Diesel', 'Petrol', 'Other', 'Hybrid', 'Electric'], dtype=object)"
      ]
     },
     "execution_count": 69,
     "metadata": {},
     "output_type": "execute_result"
    }
   ],
   "source": []
  },
  {
   "cell_type": "code",
   "execution_count": 6,
   "metadata": {},
   "outputs": [],
   "source": [
    "from sklearn.model_selection import train_test_split\n",
    "x_train,x_test,y_train,y_test = train_test_split(X,y,test_size=0.2,random_state=42)"
   ]
  },
  {
   "cell_type": "code",
   "execution_count": 7,
   "metadata": {},
   "outputs": [
    {
     "data": {
      "text/plain": [
       "Index(['latitude', 'longitude', 'rms'], dtype='object')"
      ]
     },
     "execution_count": 7,
     "metadata": {},
     "output_type": "execute_result"
    }
   ],
   "source": [
    "numeric_column = x_train.select_dtypes(exclude='object').columns\n",
    "numeric_column"
   ]
  },
  {
   "cell_type": "code",
   "execution_count": 8,
   "metadata": {},
   "outputs": [
    {
     "data": {
      "text/plain": [
       "Index(['magType', 'locationSource', 'magSource'], dtype='object')"
      ]
     },
     "execution_count": 8,
     "metadata": {},
     "output_type": "execute_result"
    }
   ],
   "source": [
    "cat_column = x_train.select_dtypes(include='object').columns\n",
    "cat_column"
   ]
  },
  {
   "cell_type": "code",
   "execution_count": 9,
   "metadata": {},
   "outputs": [],
   "source": [
    "from sklearn.pipeline import Pipeline\n",
    "from sklearn.impute import SimpleImputer\n",
    "from sklearn.preprocessing import StandardScaler,OneHotEncoder\n",
    "numerical_pipline = Pipeline(steps=[('handle_missing',SimpleImputer(strategy='median')),\n",
    "                                   ('scaling',StandardScaler(with_mean=False))])\n"
   ]
  },
  {
   "cell_type": "code",
   "execution_count": 10,
   "metadata": {},
   "outputs": [],
   "source": [
    "cat_pipline = Pipeline(steps=[('handle_missing',SimpleImputer(strategy='most_frequent')),\n",
    "                             ('onehotencoding',OneHotEncoder(drop='first')),\n",
    "                             ('scaling',StandardScaler(with_mean=False))])"
   ]
  },
  {
   "cell_type": "code",
   "execution_count": 11,
   "metadata": {},
   "outputs": [
    {
     "data": {
      "text/plain": [
       "ColumnTransformer(n_jobs=None, remainder='drop', sparse_threshold=0.3,\n",
       "                  transformer_weights=None,\n",
       "                  transformers=[('numerical_columns',\n",
       "                                 Pipeline(memory=None,\n",
       "                                          steps=[('handle_missing',\n",
       "                                                  SimpleImputer(add_indicator=False,\n",
       "                                                                copy=True,\n",
       "                                                                fill_value=None,\n",
       "                                                                missing_values=nan,\n",
       "                                                                strategy='median',\n",
       "                                                                verbose=0)),\n",
       "                                                 ('scaling',\n",
       "                                                  StandardScaler(copy=True,\n",
       "                                                                 with_mean=False,\n",
       "                                                                 with_std=True))...\n",
       "                                                                fill_value=None,\n",
       "                                                                missing_values=nan,\n",
       "                                                                strategy='most_frequent',\n",
       "                                                                verbose=0)),\n",
       "                                                 ('onehotencoding',\n",
       "                                                  OneHotEncoder(categories='auto',\n",
       "                                                                drop='first',\n",
       "                                                                dtype=<class 'numpy.float64'>,\n",
       "                                                                handle_unknown='error',\n",
       "                                                                sparse=True)),\n",
       "                                                 ('scaling',\n",
       "                                                  StandardScaler(copy=True,\n",
       "                                                                 with_mean=False,\n",
       "                                                                 with_std=True))],\n",
       "                                          verbose=False),\n",
       "                                 Index(['magType', 'locationSource', 'magSource'], dtype='object'))],\n",
       "                  verbose=False)"
      ]
     },
     "execution_count": 11,
     "metadata": {},
     "output_type": "execute_result"
    }
   ],
   "source": [
    "from sklearn.compose import ColumnTransformer\n",
    "preprocessing = ColumnTransformer(transformers=[('numerical_columns',numerical_pipline,numeric_column),\n",
    "                                               ('cat_columns',cat_pipline,cat_column)])\n",
    "preprocessing"
   ]
  },
  {
   "cell_type": "code",
   "execution_count": 12,
   "metadata": {},
   "outputs": [
    {
     "data": {
      "text/plain": [
       "Pipeline(memory=None,\n",
       "         steps=[('preprocessing',\n",
       "                 ColumnTransformer(n_jobs=None, remainder='drop',\n",
       "                                   sparse_threshold=0.3,\n",
       "                                   transformer_weights=None,\n",
       "                                   transformers=[('numerical_columns',\n",
       "                                                  Pipeline(memory=None,\n",
       "                                                           steps=[('handle_missing',\n",
       "                                                                   SimpleImputer(add_indicator=False,\n",
       "                                                                                 copy=True,\n",
       "                                                                                 fill_value=None,\n",
       "                                                                                 missing_values=nan,\n",
       "                                                                                 strategy='median',\n",
       "                                                                                 verbose=0)),\n",
       "                                                                  ('scaling',\n",
       "                                                                   StandardSca...\n",
       "                 RandomForestRegressor(bootstrap=True, ccp_alpha=0.0,\n",
       "                                       criterion='mse', max_depth=8,\n",
       "                                       max_features='auto', max_leaf_nodes=None,\n",
       "                                       max_samples=None,\n",
       "                                       min_impurity_decrease=0.0,\n",
       "                                       min_impurity_split=None,\n",
       "                                       min_samples_leaf=1, min_samples_split=2,\n",
       "                                       min_weight_fraction_leaf=0.0,\n",
       "                                       n_estimators=200, n_jobs=None,\n",
       "                                       oob_score=False, random_state=None,\n",
       "                                       verbose=0, warm_start=False))],\n",
       "         verbose=False)"
      ]
     },
     "execution_count": 12,
     "metadata": {},
     "output_type": "execute_result"
    }
   ],
   "source": [
    "from sklearn.ensemble import RandomForestRegressor\n",
    "final_pipline = Pipeline(steps=[('preprocessing',preprocessing),\n",
    "                               ('model',RandomForestRegressor(max_depth=8, n_estimators=200))])\n",
    "final_pipline"
   ]
  },
  {
   "cell_type": "code",
   "execution_count": 13,
   "metadata": {},
   "outputs": [
    {
     "data": {
      "text/plain": [
       "Pipeline(memory=None,\n",
       "         steps=[('preprocessing',\n",
       "                 ColumnTransformer(n_jobs=None, remainder='drop',\n",
       "                                   sparse_threshold=0.3,\n",
       "                                   transformer_weights=None,\n",
       "                                   transformers=[('numerical_columns',\n",
       "                                                  Pipeline(memory=None,\n",
       "                                                           steps=[('handle_missing',\n",
       "                                                                   SimpleImputer(add_indicator=False,\n",
       "                                                                                 copy=True,\n",
       "                                                                                 fill_value=None,\n",
       "                                                                                 missing_values=nan,\n",
       "                                                                                 strategy='median',\n",
       "                                                                                 verbose=0)),\n",
       "                                                                  ('scaling',\n",
       "                                                                   StandardSca...\n",
       "                 RandomForestRegressor(bootstrap=True, ccp_alpha=0.0,\n",
       "                                       criterion='mse', max_depth=8,\n",
       "                                       max_features='auto', max_leaf_nodes=None,\n",
       "                                       max_samples=None,\n",
       "                                       min_impurity_decrease=0.0,\n",
       "                                       min_impurity_split=None,\n",
       "                                       min_samples_leaf=1, min_samples_split=2,\n",
       "                                       min_weight_fraction_leaf=0.0,\n",
       "                                       n_estimators=200, n_jobs=None,\n",
       "                                       oob_score=False, random_state=None,\n",
       "                                       verbose=0, warm_start=False))],\n",
       "         verbose=False)"
      ]
     },
     "execution_count": 13,
     "metadata": {},
     "output_type": "execute_result"
    }
   ],
   "source": [
    "final_pipline.fit(x_train,y_train)"
   ]
  },
  {
   "cell_type": "code",
   "execution_count": 14,
   "metadata": {},
   "outputs": [
    {
     "data": {
      "text/plain": [
       "['magn1122.pkl']"
      ]
     },
     "execution_count": 14,
     "metadata": {},
     "output_type": "execute_result"
    }
   ],
   "source": [
    "import joblib\n",
    "joblib.dump(final_pipline,'magn1122.pkl')"
   ]
  },
  {
   "cell_type": "code",
   "execution_count": null,
   "metadata": {},
   "outputs": [],
   "source": [
    "\n"
   ]
  },
  {
   "cell_type": "code",
   "execution_count": 85,
   "metadata": {},
   "outputs": [
    {
     "data": {
      "text/plain": [
       "array([24325.67974864])"
      ]
     },
     "execution_count": 85,
     "metadata": {},
     "output_type": "execute_result"
    }
   ],
   "source": [
    "model.predict(pd.DataFrame({'model':[' 4 Series'],'year':[2018],'transmission':['Manual'],'mileage':[10000],'fuelType':['Diesel'],'tax':[20],'mpg':[100],'engineSize':[4]}))"
   ]
  },
  {
   "cell_type": "code",
   "execution_count": 15,
   "metadata": {},
   "outputs": [
    {
     "name": "stdout",
     "output_type": "stream",
     "text": [
      "Writing magno1122.py\n"
     ]
    }
   ],
   "source": [
    "%%writefile magno1122.py\n",
    "\n",
    "import numpy as np\n",
    "import pandas as pd\n",
    "import joblib \n",
    "import streamlit as st\n",
    "\n",
    "reg = joblib.load('magn1122.pkl')\n",
    "\n",
    "def predict_mag_Earthquake(latitude,longitude,rms,magType,locationSource,magSource):\n",
    "    prediction = reg.predict(pd.DataFrame({'latitude':[latitude],'longitude':[longitude],'rms':[rms],'magType':[magType],'locationSource':[locationSource],'magSource':[magSource]}))\n",
    "    return prediction\n",
    "\n",
    "def main():\n",
    "    st.title('Earthquake magnitude prediction')\n",
    "    html_temp=\"\"\"\n",
    "                <div style=\"background-color:red\">\n",
    "                <h2 style=\"color:white;text-align:center;\">this our first streamlit application </h2>\n",
    "                </div>\n",
    "              \"\"\"\n",
    "    st.markdown(html_temp,unsafe_allow_html=True)\n",
    "    latitude = st.text_input('latitude','put the latitude of the Earthquake')\n",
    "    longitude= st.text_input('longitude','put the longitude of the Earthquake')\n",
    "    rms = st.text_input('rms','put the rmsof the Earthquake')\n",
    "    magType= st.selectbox('magType',['md','mb','ml','mw','ms','mh','m','mc'])\n",
    "    locationSource= st.selectbox('locationSource',['us','ak','guc','nc','buc','tx','tul'])\n",
    "    magSource= st.selectbox('magSource',['us','ak','guc','nc','buc','tx','tul'])\n",
    "    result = \"\"\n",
    "    if st.button('predict'):\n",
    "        result =predict_mag_Earthquake(latitude,longitude,rms,magType,locationSource,magSource)\n",
    "    st.success('the Earthquake magnitude is {}'.format(result))  \n",
    "    \n",
    "        \n",
    "if __name__=='__main__':\n",
    "    main()\n",
    "\n",
    "\n",
    "\n"
   ]
  },
  {
   "cell_type": "code",
   "execution_count": null,
   "metadata": {},
   "outputs": [],
   "source": [
    "! streamlit run magno1122.py"
   ]
  },
  {
   "cell_type": "code",
   "execution_count": null,
   "metadata": {},
   "outputs": [],
   "source": []
  },
  {
   "cell_type": "code",
   "execution_count": null,
   "metadata": {},
   "outputs": [],
   "source": []
  }
 ],
 "metadata": {
  "kernelspec": {
   "display_name": "Python 3",
   "language": "python",
   "name": "python3"
  },
  "language_info": {
   "codemirror_mode": {
    "name": "ipython",
    "version": 3
   },
   "file_extension": ".py",
   "mimetype": "text/x-python",
   "name": "python",
   "nbconvert_exporter": "python",
   "pygments_lexer": "ipython3",
   "version": "3.7.6"
  }
 },
 "nbformat": 4,
 "nbformat_minor": 5
}
